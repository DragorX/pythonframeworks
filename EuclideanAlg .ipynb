{
 "cells": [
  {
   "cell_type": "code",
   "execution_count": 36,
   "metadata": {},
   "outputs": [],
   "source": [
    "def task2():\n",
    "    try:\n",
    "        a = int(input(\"Enter No.1: \"))\n",
    "\n",
    "        b = int(input(\"Enter No.2: \"))\n",
    "\n",
    "        r = a%b\n",
    "\n",
    "        q = int(a/b)\n",
    "\n",
    "        while(r!=0):\n",
    "\n",
    "            a = b\n",
    "\n",
    "            b = r\n",
    "\n",
    "            q = int(a/b)\n",
    "\n",
    "            r = a - (b * q)\n",
    "\n",
    "\n",
    "        print(\"The gcd of 2 numbers is \", b)\n",
    "    except TypeError:\n",
    "        print(\"non-integer input!\")\n",
    "    except ValueError:\n",
    "        print(\"invalid value input!\")\n",
    "    except Exception:\n",
    "        print(\"unknown error...\")"
   ]
  },
  {
   "cell_type": "code",
   "execution_count": 24,
   "metadata": {},
   "outputs": [
    {
     "name": "stdout",
     "output_type": "stream",
     "text": [
      "Enter No.1: 16\n",
      "Enter No.2: 36\n",
      "4\n"
     ]
    }
   ],
   "source": [
    "task4()"
   ]
  },
  {
   "cell_type": "code",
   "execution_count": 33,
   "metadata": {},
   "outputs": [
    {
     "name": "stdout",
     "output_type": "stream",
     "text": [
      "Enter No.1: 16 \n",
      "Enter No.2: 36\n",
      "4\n"
     ]
    }
   ],
   "source": [
    "task2()"
   ]
  },
  {
   "cell_type": "code",
   "execution_count": 37,
   "metadata": {},
   "outputs": [
    {
     "name": "stdout",
     "output_type": "stream",
     "text": [
      "Enter No.1: 16\n",
      "Enter No.2: 36\n",
      "The gcd of 2 numbers is  4\n"
     ]
    }
   ],
   "source": [
    "task2()"
   ]
  },
  {
   "cell_type": "code",
   "execution_count": 38,
   "metadata": {},
   "outputs": [
    {
     "name": "stdout",
     "output_type": "stream",
     "text": [
      "Enter No.1: 12\n",
      "Enter No.2: 54\n",
      "The gcd of 2 numbers is  6\n"
     ]
    }
   ],
   "source": [
    "task2()"
   ]
  },
  {
   "cell_type": "code",
   "execution_count": 39,
   "metadata": {},
   "outputs": [
    {
     "name": "stdout",
     "output_type": "stream",
     "text": [
      "Enter No.1: 45\n",
      "Enter No.2: er\n",
      "invalid value input!\n"
     ]
    }
   ],
   "source": [
    "task2()"
   ]
  },
  {
   "cell_type": "code",
   "execution_count": null,
   "metadata": {},
   "outputs": [],
   "source": []
  }
 ],
 "metadata": {
  "kernelspec": {
   "display_name": "Python 3",
   "language": "python",
   "name": "python3"
  },
  "language_info": {
   "codemirror_mode": {
    "name": "ipython",
    "version": 3
   },
   "file_extension": ".py",
   "mimetype": "text/x-python",
   "name": "python",
   "nbconvert_exporter": "python",
   "pygments_lexer": "ipython3",
   "version": "3.8.5"
  }
 },
 "nbformat": 4,
 "nbformat_minor": 4
}
