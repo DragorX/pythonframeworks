{
 "cells": [
  {
   "cell_type": "code",
   "execution_count": 2,
   "metadata": {},
   "outputs": [],
   "source": [
    "import numpy as np"
   ]
  },
  {
   "cell_type": "code",
   "execution_count": 3,
   "metadata": {},
   "outputs": [
    {
     "name": "stdout",
     "output_type": "stream",
     "text": [
      ": 3 325 2 5 2 52 52 3 -1\n",
      "[-1 -1 -1 -1 -1 -1 -1 -1 -1]\n"
     ]
    }
   ],
   "source": [
    "def ex6(arr):\n",
    "    arr[arr != 0] = -1\n",
    "    return arr\n",
    "a = np.array([int(i) for i in input(\": \").split()])\n",
    "print(ex6(a))"
   ]
  },
  {
   "cell_type": "code",
   "execution_count": 4,
   "metadata": {},
   "outputs": [
    {
     "name": "stdout",
     "output_type": "stream",
     "text": [
      "[[0 1 0 1 0]\n",
      " [1 0 1 0 1]\n",
      " [0 1 0 1 0]\n",
      " [1 0 1 0 1]\n",
      " [0 1 0 1 0]]\n"
     ]
    }
   ],
   "source": [
    "def ex2(n):\n",
    "    arr = np.zeros((n,n), dtype=int)\n",
    "    arr[1::2,::2] = 1\n",
    "    arr[::2,1::2] = 1\n",
    "    return arr\n",
    "print(ex2(5))"
   ]
  },
  {
   "cell_type": "code",
   "execution_count": 82,
   "metadata": {},
   "outputs": [
    {
     "name": "stdout",
     "output_type": "stream",
     "text": [
      "[[1 0 1 0 1 0 1 0 1 0]\n",
      " [0 1 0 1 0 1 0 1 0 1]\n",
      " [1 0 1 0 1 0 1 0 1 0]\n",
      " [0 1 0 1 0 1 0 1 0 1]\n",
      " [1 0 1 0 1 0 1 0 1 0]\n",
      " [0 1 0 1 0 1 0 1 0 1]\n",
      " [1 0 1 0 1 0 1 0 1 0]\n",
      " [0 1 0 1 0 1 0 1 0 1]\n",
      " [1 0 1 0 1 0 1 0 1 0]\n",
      " [0 1 0 1 0 1 0 1 0 1]]\n"
     ]
    }
   ],
   "source": [
    "def ex2(n):\n",
    "    return np.tile(np.array([[1,0],[0,1]]), (n,n))\n",
    "print(ex2(5))"
   ]
  },
  {
   "cell_type": "code",
   "execution_count": 6,
   "metadata": {},
   "outputs": [
    {
     "name": "stdout",
     "output_type": "stream",
     "text": [
      "[[1 1 1 1 1 1 1 1 1]\n",
      " [0 0 0 0 0 0 0 0 0]\n",
      " [1 1 1 1 1 1 1 1 1]\n",
      " [0 0 0 0 0 0 0 0 0]\n",
      " [1 1 1 1 1 1 1 1 1]\n",
      " [0 0 0 0 0 0 0 0 0]\n",
      " [1 1 1 1 1 1 1 1 1]\n",
      " [0 0 0 0 0 0 0 0 0]\n",
      " [1 1 1 1 1 1 1 1 1]]\n"
     ]
    }
   ],
   "source": [
    "def ex5(n):\n",
    "    arr = np.zeros((n,n), dtype=int)\n",
    "    arr[0::2,::2] = 1\n",
    "    arr[::2,1::2] = 1\n",
    "    return arr\n",
    "print(ex5(9))"
   ]
  },
  {
   "cell_type": "code",
   "execution_count": 7,
   "metadata": {},
   "outputs": [
    {
     "name": "stdout",
     "output_type": "stream",
     "text": [
      "[[0. 0. 0. 0.]\n",
      " [0. 1. 1. 0.]\n",
      " [0. 1. 1. 0.]\n",
      " [0. 0. 0. 0.]]\n"
     ]
    }
   ],
   "source": [
    "def ex12(n):\n",
    "    arr = np.ones((n,n))\n",
    "    arr[0]=0\n",
    "    arr[-1]=0\n",
    "    arr[:,0]=0\n",
    "    arr[:,-1]=0\n",
    "    return arr\n",
    "print(ex12(4))"
   ]
  },
  {
   "cell_type": "code",
   "execution_count": 8,
   "metadata": {},
   "outputs": [
    {
     "name": "stdout",
     "output_type": "stream",
     "text": [
      "[[0 0 0 0 0 0 0 0 0 0]\n",
      " [0 1 1 1 1 1 1 1 1 0]\n",
      " [0 1 1 1 1 1 1 1 1 0]\n",
      " [0 1 1 1 1 1 1 1 1 0]\n",
      " [0 1 1 1 1 1 1 1 1 0]\n",
      " [0 1 1 1 1 1 1 1 1 0]\n",
      " [0 1 1 1 1 1 1 1 1 0]\n",
      " [0 1 1 1 1 1 1 1 1 0]\n",
      " [0 1 1 1 1 1 1 1 1 0]\n",
      " [0 0 0 0 0 0 0 0 0 0]]\n"
     ]
    }
   ],
   "source": [
    "def ex11(n):\n",
    "    arr = np.ones((n+2,n+2), dtype=int)\n",
    "    arr[0]=0\n",
    "    arr[-1]=0\n",
    "    arr[:,0]=0\n",
    "    arr[:,-1]=0\n",
    "    return arr\n",
    "print(ex11(8))"
   ]
  },
  {
   "cell_type": "code",
   "execution_count": 9,
   "metadata": {},
   "outputs": [
    {
     "name": "stdout",
     "output_type": "stream",
     "text": [
      "[[0 1 0 1 0 1 0 1]\n",
      " [1 0 1 0 1 0 1 0]\n",
      " [0 1 0 1 0 1 0 1]\n",
      " [1 0 1 0 1 0 1 0]\n",
      " [0 1 0 1 0 1 0 1]\n",
      " [1 0 1 0 1 0 1 0]\n",
      " [0 1 0 1 0 1 0 1]\n",
      " [1 0 1 0 1 0 1 0]]\n"
     ]
    }
   ],
   "source": [
    "def ex14():\n",
    "    return np.tile(np.array([[0,1],[1,0]]), (4,4))\n",
    "print(ex14())"
   ]
  },
  {
   "cell_type": "code",
   "execution_count": 10,
   "metadata": {},
   "outputs": [
    {
     "name": "stdout",
     "output_type": "stream",
     "text": [
      "In the matrix of 70-th element index is (2, 1, 4)\n"
     ]
    }
   ],
   "source": [
    "def ex13(n):\n",
    "    return np.unravel_index(n, (4,5,6))\n",
    "print(\"In the matrix of 70-th element index is\", ex13(70))"
   ]
  },
  {
   "cell_type": "code",
   "execution_count": 44,
   "metadata": {},
   "outputs": [
    {
     "name": "stdout",
     "output_type": "stream",
     "text": [
      "[[1 0 1 0 1 0 1 0 1]\n",
      " [1 0 1 0 1 0 1 0 1]\n",
      " [1 0 1 0 1 0 1 0 1]\n",
      " [1 0 1 0 1 0 1 0 1]\n",
      " [1 0 1 0 1 0 1 0 1]\n",
      " [1 0 1 0 1 0 1 0 1]\n",
      " [1 0 1 0 1 0 1 0 1]\n",
      " [1 0 1 0 1 0 1 0 1]\n",
      " [1 0 1 0 1 0 1 0 1]]\n"
     ]
    }
   ],
   "source": [
    "def ex16(n):\n",
    "    arr = np.zeros((n,n), dtype=int)\n",
    "    arr[::1,::2] = 1\n",
    "    return arr\n",
    "print(ex16(9))"
   ]
  },
  {
   "cell_type": "code",
   "execution_count": 66,
   "metadata": {},
   "outputs": [
    {
     "name": "stdout",
     "output_type": "stream",
     "text": [
      "[0 0 0 0 0 0 6 7 0 0 0]\n"
     ]
    }
   ],
   "source": [
    "def ex17(n):\n",
    "    arr = np.arange(0,n+1)\n",
    "    arr[(arr > n/2) ^ (arr < (3*n)/4)] *= 0\n",
    "    return arr\n",
    "print(ex17(10))"
   ]
  },
  {
   "cell_type": "code",
   "execution_count": 72,
   "metadata": {},
   "outputs": [
    {
     "name": "stdout",
     "output_type": "stream",
     "text": [
      "[0.11111111 0.22222222 0.33333333 0.44444444 0.55555556 0.66666667\n",
      " 0.77777778 0.88888889]\n"
     ]
    }
   ],
   "source": [
    "def ex20(n):\n",
    "    arr = np.linspace(0,1,n)[1:-1]\n",
    "    return arr\n",
    "print(ex20(10))"
   ]
  },
  {
   "cell_type": "code",
   "execution_count": 74,
   "metadata": {},
   "outputs": [
    {
     "name": "stdout",
     "output_type": "stream",
     "text": [
      "[ 1.125   1.9375 -1.125  -2.1875]\n",
      "[ 1.125   1.9375 -1.125  -2.1875]\n",
      "[ 6.  8.  4. -8.]\n",
      "True\n"
     ]
    }
   ],
   "source": [
    "def solve_by_cramer(mA, b):\n",
    "    n = mA.shape[0]\n",
    "    det = np.linalg.det(mA)\n",
    "    xs = np.empty(n)\n",
    "    if det == 0:\n",
    "        return None\n",
    "    for i in range(n):\n",
    "        mAi = np.copy(mA)\n",
    "        mAi[:, i] = b\n",
    "        xs[i] = np.linalg.det(mAi) / det\n",
    "    return xs\n",
    "\n",
    "a = np.array([[1,2,3,-2],[1,-1,-2,-3],[3,2,-1,2],[2,-3,2,1]])\n",
    "b = np.array([6,8,4,-8])\n",
    "roots = solve_by_cramer(a, b)\n",
    "print(roots)\n",
    "print(np.linalg.solve(a,b))\n",
    "ax = np.dot(a,roots)\n",
    "print(ax)\n",
    "print(np.allclose(ax, b))"
   ]
  },
  {
   "cell_type": "code",
   "execution_count": 75,
   "metadata": {},
   "outputs": [
    {
     "name": "stdout",
     "output_type": "stream",
     "text": [
      "[[ 3  0  1]\n",
      " [24 36  3]\n",
      " [ 9 48 60]]\n"
     ]
    }
   ],
   "source": [
    "def calc(mA, mB):\n",
    "    res = (mA*3)-(mB@(mA-mB*2))\n",
    "    return res\n",
    "\n",
    "a = np.array([[4,5,-2],[3,-1,0],[4,2,7]])\n",
    "b = np.array([[2,1,-1],[0,1,3],[5,7,3]])\n",
    "print(calc(a,b))"
   ]
  },
  {
   "cell_type": "code",
   "execution_count": 76,
   "metadata": {},
   "outputs": [
    {
     "name": "stdout",
     "output_type": "stream",
     "text": [
      "[[-0.375  -1.      0.625 ]\n",
      " [ 2.3125 -1.      1.8125]\n",
      " [-1.75    1.     -0.75  ]]\n",
      "[[-0.375  -1.      0.625 ]\n",
      " [ 2.3125 -1.      1.8125]\n",
      " [-1.75    1.     -0.75  ]]\n",
      "[[ 5.00000000e+00 -1.00000000e+00  3.00000000e+00]\n",
      " [ 4.00000000e+00  2.00000000e+00  1.00000000e+00]\n",
      " [-1.00000000e+00 -2.22044605e-16  2.00000000e+00]]\n",
      "True\n"
     ]
    }
   ],
   "source": [
    "def solve_by_inv(mA, mB):\n",
    "    if np.linalg.det(mA) == 0:\n",
    "        return None\n",
    "    xs = np.linalg.inv(mA) @ mB\n",
    "    return xs\n",
    "\n",
    "a = np.array([[-1,2,0],[-3,2,1],[1,2,3]])\n",
    "b = np.array([[5,-1,3],[4,2,1],[-1,0,2]])\n",
    "roots = solve_by_inv(a,b)\n",
    "print(roots)\n",
    "print(np.linalg.solve(a,b))\n",
    "prod = a @ roots\n",
    "print(prod)\n",
    "print(np.allclose(prod,b))"
   ]
  }
 ],
 "metadata": {
  "kernelspec": {
   "display_name": "Python 3",
   "language": "python",
   "name": "python3"
  }
 },
 "nbformat": 4,
 "nbformat_minor": 4
}
